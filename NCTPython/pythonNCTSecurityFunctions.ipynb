{
 "cells": [
  {
   "cell_type": "code",
   "execution_count": null,
   "id": "61c13774-b304-484b-9428-e74c126e12b3",
   "metadata": {},
   "outputs": [],
   "source": [
    "'''--------------------------\n",
    "This will be called from pythonNCTMenus.ipynb\n",
    "User selects 'Python Security Functions'\n",
    "That will bring up another sub-menu that will allow user to call these functions\n",
    "--------------------------'''"
   ]
  },
  {
   "cell_type": "code",
   "execution_count": null,
   "id": "181b779c-9cc4-49df-afce-4d741d78a4ea",
   "metadata": {},
   "outputs": [],
   "source": [
    "\n"
   ]
  }
 ],
 "metadata": {
  "kernelspec": {
   "display_name": "Python 3 (ipykernel)",
   "language": "python",
   "name": "python3"
  },
  "language_info": {
   "codemirror_mode": {
    "name": "ipython",
    "version": 3
   },
   "file_extension": ".py",
   "mimetype": "text/x-python",
   "name": "python",
   "nbconvert_exporter": "python",
   "pygments_lexer": "ipython3",
   "version": "3.11.1"
  }
 },
 "nbformat": 4,
 "nbformat_minor": 5
}
