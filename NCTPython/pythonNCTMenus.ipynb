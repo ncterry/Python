{
 "cells": [
  {
   "cell_type": "code",
   "execution_count": 5,
   "id": "4568176c-c5cd-4287-80fa-c04976f2aed9",
   "metadata": {},
   "outputs": [],
   "source": [
    "# Section to define globals. This cannot be a function\n",
    "global quitVar\n",
    "quitVar = False\n"
   ]
  },
  {
   "cell_type": "code",
   "execution_count": 6,
   "id": "348e24f4-1c61-4342-8d6e-1ef029a1e184",
   "metadata": {},
   "outputs": [],
   "source": [
    "def printMenu():\n",
    "    # New function restate the global var\n",
    "    global quitVar\n",
    "    print(\"====================== Menu Name ======================\")\n",
    "    \n",
    "    # Better to not integrate other languages such as PowerShell unless you are forced\n",
    "    print(\" 1) Python Security Functions\")\n",
    "    print(\" 2) \")\n",
    "    print(\" 3) Execute Script\")\n",
    "    print(\" q) Quit\")\n",
    "    \n",
    "    userChoice = input(\"\\n\\nSelection: \")\n",
    "    userChoice = userChoice.strip()   # Remove any whitespace\n",
    "    userChoice = userChoice.lower()   # Make it all lowercase to make sure there are no conflicts\n",
    "    print(\"====================== Menu Name ======================\")\n",
    "    if (userChoice == \"q\" or userChoice == \"quit\"):\n",
    "        # If global quitVar set to true, the program will quit\n",
    "        quitVar = True\n",
    "    else:\n",
    "        # Not needed but just for initial show\n",
    "        print(\"Proceed\")\n"
   ]
  },
  {
   "cell_type": "code",
   "execution_count": 7,
   "id": "27ab783c-3754-455b-9e05-90905f6165c9",
   "metadata": {},
   "outputs": [
    {
     "name": "stdout",
     "output_type": "stream",
     "text": [
      "====================== Menu Name ======================\n",
      " 1) PowerShell Command\n",
      " 2) Python Function\n",
      " 3) Execute Script\n",
      " q) Quit\n"
     ]
    },
    {
     "name": "stdin",
     "output_type": "stream",
     "text": [
      "\n",
      "\n",
      "Selection:  1\n"
     ]
    },
    {
     "name": "stdout",
     "output_type": "stream",
     "text": [
      "====================== Menu Name ======================\n",
      "else\n",
      "====================== Menu Name ======================\n",
      " 1) PowerShell Command\n",
      " 2) Python Function\n",
      " 3) Execute Script\n",
      " q) Quit\n"
     ]
    },
    {
     "name": "stdin",
     "output_type": "stream",
     "text": [
      "\n",
      "\n",
      "Selection:  2\n"
     ]
    },
    {
     "name": "stdout",
     "output_type": "stream",
     "text": [
      "====================== Menu Name ======================\n",
      "else\n",
      "====================== Menu Name ======================\n",
      " 1) PowerShell Command\n",
      " 2) Python Function\n",
      " 3) Execute Script\n",
      " q) Quit\n"
     ]
    },
    {
     "name": "stdin",
     "output_type": "stream",
     "text": [
      "\n",
      "\n",
      "Selection:  3\n"
     ]
    },
    {
     "name": "stdout",
     "output_type": "stream",
     "text": [
      "====================== Menu Name ======================\n",
      "else\n",
      "====================== Menu Name ======================\n",
      " 1) PowerShell Command\n",
      " 2) Python Function\n",
      " 3) Execute Script\n",
      " q) Quit\n"
     ]
    },
    {
     "name": "stdin",
     "output_type": "stream",
     "text": [
      "\n",
      "\n",
      "Selection:  q\n"
     ]
    },
    {
     "name": "stdout",
     "output_type": "stream",
     "text": [
      "====================== Menu Name ======================\n"
     ]
    }
   ],
   "source": [
    "global quitVar  # New function restate the global var\n",
    "while (quitVar == False):\n",
    "    printMenu()\n",
    "    \n",
    "        "
   ]
  },
  {
   "cell_type": "code",
   "execution_count": null,
   "id": "9ac9a0e6-bc46-4b8f-b5da-ffdbd42663b1",
   "metadata": {},
   "outputs": [],
   "source": []
  },
  {
   "cell_type": "code",
   "execution_count": null,
   "id": "fb67a44e-5630-4f77-a11c-64827a7fb068",
   "metadata": {},
   "outputs": [],
   "source": []
  }
 ],
 "metadata": {
  "kernelspec": {
   "display_name": "Python 3 (ipykernel)",
   "language": "python",
   "name": "python3"
  },
  "language_info": {
   "codemirror_mode": {
    "name": "ipython",
    "version": 3
   },
   "file_extension": ".py",
   "mimetype": "text/x-python",
   "name": "python",
   "nbconvert_exporter": "python",
   "pygments_lexer": "ipython3",
   "version": "3.11.1"
  }
 },
 "nbformat": 4,
 "nbformat_minor": 5
}
