{
 "cells": [
  {
   "cell_type": "code",
   "execution_count": 35,
   "id": "8a543d20-303e-41d6-86c5-34aa1ed9f998",
   "metadata": {},
   "outputs": [],
   "source": [
    "# Function to use in button 1 in the GUI\n",
    "#def button1_clicked():\n",
    "    # Print will print to the terminal\n",
    "    print(\"Clicked button 1\")\n",
    "    # Change the label text in the gui\n",
    "    label.config(text=\"Clicked button 1\")"
   ]
  },
  {
   "cell_type": "code",
   "execution_count": 36,
   "id": "a996e820-d87a-4192-88cb-69d01b0b7889",
   "metadata": {},
   "outputs": [],
   "source": [
    "# Function to use in button 2 in the GUI\n",
    "def change_label():\n",
    "    # Print will print to the terminal\n",
    "    print(\"Clicked button 2\")\n",
    "    # Change the label text in the gui\n",
    "    label.config(text=\"Clicked button 2\")"
   ]
  },
  {
   "cell_type": "code",
   "execution_count": 37,
   "id": "57ee64a2-5e62-418f-a90e-faed8b804d6b",
   "metadata": {},
   "outputs": [],
   "source": [
    "# Function to use in button 3 in the GUI\n",
    "def button3_clicked():\n",
    "    # Print will print to the terminal\n",
    "    print(\"Clicked button 3\")\n",
    "    # Change the label text in the gui\n",
    "    label.config(text=\"Clicked button 3\")"
   ]
  },
  {
   "cell_type": "code",
   "execution_count": 38,
   "id": "4ef327f5-2a67-4ec5-a93e-b4416fd3b409",
   "metadata": {},
   "outputs": [
    {
     "name": "stdout",
     "output_type": "stream",
     "text": [
      "Clicked button 1\n",
      "Clicked button 2\n",
      "Clicked button 2\n",
      "Clicked button 3\n"
     ]
    }
   ],
   "source": [
    "'''\n",
    "This is just a simple GUI window\n",
    "With 3 buttons, that each click calls a function above.\n",
    "'''\n",
    "#from templateMenu import theMenu\n",
    "import tkinter as tk\n",
    "from tkinter import *\n",
    "\n",
    "# Create the menu frame to hold the buttons\n",
    "root = tk.Tk()\n",
    "root.geometry(\"600x800\")\n",
    "root.title(\"Template GUI\")\n",
    "menu_frame = tk.Frame(root, bg = \"#fff\")\n",
    "menu_frame.pack()\n",
    "\n",
    "# Create the buttons\n",
    "button1 = tk.Button(menu_frame, text=\"Button 1\", command=button1_clicked, font=\"Arial\", width=40, height=5)\n",
    "button2 = tk.Button(menu_frame, text=\"Change Label\", command=change_label, font=\"Arial\", width=40, height=5)\n",
    "button3 = tk.Button(menu_frame, text=\"Button 3\", command=button3_clicked, font=\"Arial\", width=40, height=5)\n",
    "\n",
    "# Pack the buttons into the menu frame\n",
    "button1.pack(side=tk.TOP, padx=10, pady=10)\n",
    "button2.pack(side=tk.TOP, padx=10, pady=10)\n",
    "button3.pack(side=tk.TOP, padx=10, pady=10)\n",
    "\n",
    "# Create a label in the GUI window, with text that can be changed ny function/button\n",
    "label = tk.Label(root, text=\"Hello World\", font=\"Arial\")\n",
    "label.pack(pady=100)\n",
    "\n",
    "# Start the main loop\n",
    "root.mainloop()"
   ]
  },
  {
   "cell_type": "code",
   "execution_count": null,
   "id": "67ef0cf6-c272-4eba-a3f9-ebd9d127ccba",
   "metadata": {},
   "outputs": [],
   "source": [
    "'''\n",
    "Above is just a test/template GUI with associated buttons and functions.\n",
    "\n",
    "Below is functions targeting excel tasks\n",
    "'''"
   ]
  },
  {
   "cell_type": "code",
   "execution_count": null,
   "id": "4a10cadb-68c3-4796-9960-415150ca926e",
   "metadata": {},
   "outputs": [],
   "source": [
    "# The next two blocks are a function to create a speadsheet\n",
    "# and a simple GUI with a button that calls the function"
   ]
  },
  {
   "cell_type": "code",
   "execution_count": 90,
   "id": "7f142a97-effb-40f6-bc3f-cc62ebb10ecd",
   "metadata": {},
   "outputs": [],
   "source": [
    "# This function will create a new excel spreadsheet\n",
    "# Currently \n",
    "import openpyxl\n",
    "def create_excel_file_function(filename, sheetname):\n",
    "    wb=openpyxl.Workbook()\n",
    "    ws=wb.active\n",
    "    ws.title= sheetname\n",
    "    ws.cell(row=1, column=3).value = \"Hello\"\n",
    "    ws.cell(row=2, column=3).value = \"World\"\n",
    "    ws.cell(row=4, column=3).value = \"Nate\"\n",
    "    ws.cell(row=5, column=3).value = \"Joey\"\n",
    "    ws.cell(row=7, column=3).value = \"Jean\"\n",
    "    # Currently saves the file locally in the directory with this ipynb file\n",
    "    wb.save(filename)\n",
    "    "
   ]
  },
  {
   "cell_type": "code",
   "execution_count": 80,
   "id": "d764bc54-c786-4476-adbb-c9045fae7f07",
   "metadata": {},
   "outputs": [],
   "source": [
    "# Simple GUI that only calls the create excel file function\n",
    "import tkinter as tk\n",
    "from tkinter import *\n",
    "import openpyxl\n",
    "from openpyxl import load_workbook\n",
    "import os # To use cls aka clear\n",
    "from IPython.display import clear_output\n",
    "\n",
    "    \n",
    "# Create the menu frame to hold the buttons\n",
    "root = tk.Tk()\n",
    "root.geometry(\"600x800\")\n",
    "root.title(\"Excel GUI\")\n",
    "menu_frame = tk.Frame(root, bg = \"#fff\")\n",
    "menu_frame.pack()\n",
    "\n",
    "#-----------------------------------\n",
    "# Button to create a new file\n",
    "create_excel_file_button = tk.Button(menu_frame, text=\"Create Excel\", command=create_excel_file_function, padx=10, width=10)\n",
    "\n",
    "# Pack the buttons into the menu frame\n",
    "create_excel_file_button.pack(side=tk.TOP)\n",
    "\n",
    "# Start the main loop\n",
    "root.mainloop()"
   ]
  },
  {
   "cell_type": "code",
   "execution_count": 94,
   "id": "de9647c3-c03c-4d6a-84d2-8e2b6f6781a6",
   "metadata": {},
   "outputs": [],
   "source": [
    "# This is just a simple call of the create spreadsheet function\n",
    "# This is not a part of the GUI\n",
    "filename = 'example.xlsx'\n",
    "sheetname = 'Sheet AAA'\n",
    "create_excel_file_function(filename, sheetname)"
   ]
  },
  {
   "cell_type": "code",
   "execution_count": 95,
   "id": "e9da8069-d2c7-4132-b487-26ffce211398",
   "metadata": {},
   "outputs": [],
   "source": [
    "import openpyxl\n",
    "# Function to open an existing spreadsheet and add a new sheet.\n",
    "def create_new_sheet(filename, sheetname):\n",
    "    # Load the workbook\n",
    "    wb = openpyxl.load_workbook(filename)\n",
    "    # Create a new sheet\n",
    "    new_sheet = wb.create_sheet(sheetname)\n",
    "    # Save the changes to the workbook\n",
    "    wb.save(filename)\n",
    "    # Print a confirmation message\n",
    "    print(f\"New sheet '{sheetname}' created in {filename}\")\n"
   ]
  },
  {
   "cell_type": "code",
   "execution_count": 96,
   "id": "c6ca9d6f-a01d-437d-ac12-38385b15a4cb",
   "metadata": {},
   "outputs": [
    {
     "name": "stdout",
     "output_type": "stream",
     "text": [
      "New sheet 'Sheet BBB' created in example.xlsx\n"
     ]
    }
   ],
   "source": [
    "filename = 'example.xlsx'\n",
    "sheetname = 'Sheet BBB'\n",
    "command=create_new_sheet(filename, sheetname)"
   ]
  },
  {
   "cell_type": "code",
   "execution_count": null,
   "id": "4f4d80b4-d680-4dd1-ba76-f4b1f50ccc08",
   "metadata": {},
   "outputs": [],
   "source": [
    "#=============Print cells in spreadsheet that have value (start)==============="
   ]
  },
  {
   "cell_type": "code",
   "execution_count": 128,
   "id": "12886182-acf8-4e02-9671-2a28f4b2d601",
   "metadata": {},
   "outputs": [],
   "source": [
    "# Print all cells in a column that have values\n",
    "# None is an empty cell\n",
    "# Ex: A-Z but at the moment, if you enter 3 it will print row 3, not a column\n",
    "def checkForValuesInColumn(filename, sheetname, column):\n",
    "    workbook = load_workbook(filename)\n",
    "    sheet = workbook[sheetname]\n",
    "    propercell = False\n",
    "    targetcell = None\n",
    "    # Stay in loop until a user breaks. Let them try any cell until they exit\n",
    "    #while propercell == False and targetcell != \"0\":\n",
    "    ##### Get all cells in column\n",
    "    #targetcell = input(\"\\nEnter target column. Example C \\nOr enter '0' to stop: \")\n",
    "    targetcell = column\n",
    "    targetcell = targetcell.strip() #Remove whitespace from input\n",
    "    targetcell = targetcell.lower() #Take input letters lowercase\n",
    "    #--------\n",
    "    column = sheet[targetcell]\n",
    "    # Scroll through every cell in column\n",
    "    \n",
    "    # Initialize an empty list to hold the results\n",
    "    results = []\n",
    "    for cell in column:\n",
    "        # If the cell is not empty, then print the actual value in the cell.\n",
    "        if cell.value != \"\":\n",
    "            # Add the row and column numbers to the results list\n",
    "            results.append((cell.value, cell.row, cell.column))\n",
    "\n",
    "    return results"
   ]
  },
  {
   "cell_type": "code",
   "execution_count": 129,
   "id": "bf3dfab4-a873-4ca7-9b0b-610f77b1bd02",
   "metadata": {},
   "outputs": [
    {
     "name": "stdout",
     "output_type": "stream",
     "text": [
      "Value found in (row, column): \n",
      "\n",
      "('Hello', 1, 3)\n",
      "('World', 2, 3)\n",
      "(None, 3, 3)\n",
      "('Nate', 4, 3)\n",
      "('Joey', 5, 3)\n",
      "(None, 6, 3)\n",
      "('Jean', 7, 3)\n",
      "(None, 8, 3)\n",
      "(None, 9, 3)\n",
      "(None, 10, 3)\n",
      "(None, 11, 3)\n",
      "(None, 12, 3)\n",
      "(None, 13, 3)\n",
      "(None, 14, 3)\n",
      "('Hello', 15, 3)\n"
     ]
    },
    {
     "data": {
      "text/plain": [
       "'Example:\\nNone\\nx\\nNate\\nAsh\\nNone\\nJoey\\n'"
      ]
     },
     "execution_count": 129,
     "metadata": {},
     "output_type": "execute_result"
    }
   ],
   "source": [
    "filename = 'example.xlsx'\n",
    "sheetname = 'Sheet AAA'\n",
    "column = \"C\"\n",
    "\n",
    "results = checkForValuesInColumn(filename, sheetname, column)\n",
    "print(\"Value found in (row, column): \\n\")\n",
    "for result in results:\n",
    "    print(result)\n",
    "'''Example:\n",
    "None\n",
    "x\n",
    "Nate\n",
    "Ash\n",
    "None\n",
    "Joey\n",
    "'''"
   ]
  },
  {
   "cell_type": "code",
   "execution_count": null,
   "id": "0778cb1d-07ac-4718-ab3a-cdd628cc19e4",
   "metadata": {},
   "outputs": [],
   "source": [
    "#=============Print cells in spreadsheet that have value (end)==============="
   ]
  },
  {
   "cell_type": "code",
   "execution_count": null,
   "id": "c61e0eb0-b60f-4a09-9c3f-6a849dc1e060",
   "metadata": {},
   "outputs": [],
   "source": [
    "#==============find_string_in_excel (start)==========================================="
   ]
  },
  {
   "cell_type": "code",
   "execution_count": 114,
   "id": "54aee77b-fcc3-4e61-a6b1-07b4544c1a37",
   "metadata": {},
   "outputs": [],
   "source": [
    "import openpyxl\n",
    "\n",
    "def find_string_in_excel(filename, sheetname, search_string):\n",
    "    # Load the workbook and select the worksheet\n",
    "    workbook = openpyxl.load_workbook(filename)\n",
    "    worksheet = workbook[sheetname]\n",
    "\n",
    "    # Initialize an empty list to hold the results\n",
    "    results = []\n",
    "    \n",
    "    # Iterate over all cells in the sheet\n",
    "    for row in worksheet.iter_rows():\n",
    "        for cell in row:\n",
    "            # Check if the cell contains the search term\n",
    "            if search_string.lower() in str(cell.value).lower():\n",
    "                # Add the row and column numbers to the results list\n",
    "                results.append((cell.value, cell.row, cell.column))\n",
    "    \n",
    "    # Return the results\n",
    "    return results\n"
   ]
  },
  {
   "cell_type": "code",
   "execution_count": 119,
   "id": "6ec65a07-7ad7-46ee-942a-ae3c23d52a84",
   "metadata": {},
   "outputs": [
    {
     "name": "stdout",
     "output_type": "stream",
     "text": [
      "Hello(case-insensitive found in (row, column): \n",
      "\n",
      "('Hello', 1, 3)\n",
      "('Hello', 4, 7)\n",
      "('hello', 7, 1)\n",
      "('HELLO', 10, 7)\n",
      "('HeLLo', 12, 2)\n",
      "('Hello', 15, 3)\n"
     ]
    }
   ],
   "source": [
    "filename = 'example.xlsx'\n",
    "sheetname = 'Sheet AAA'\n",
    "results = find_string_in_excel(filename, sheetname, \"HELlo\")\n",
    "print(\"Hello(case-insensitive found in (row, column): \\n\")\n",
    "for result in results:\n",
    "    print(result)\n"
   ]
  },
  {
   "cell_type": "code",
   "execution_count": null,
   "id": "824bc656-1b45-4dde-92b4-1e70a8a346a9",
   "metadata": {},
   "outputs": [],
   "source": [
    "#==============find_string_in_excel (end)==========================================="
   ]
  },
  {
   "cell_type": "code",
   "execution_count": null,
   "id": "c3b5fab0-9707-4a9c-948e-023be1b96fb3",
   "metadata": {},
   "outputs": [],
   "source": []
  }
 ],
 "metadata": {
  "kernelspec": {
   "display_name": "Python 3 (ipykernel)",
   "language": "python",
   "name": "python3"
  },
  "language_info": {
   "codemirror_mode": {
    "name": "ipython",
    "version": 3
   },
   "file_extension": ".py",
   "mimetype": "text/x-python",
   "name": "python",
   "nbconvert_exporter": "python",
   "pygments_lexer": "ipython3",
   "version": "3.11.1"
  }
 },
 "nbformat": 4,
 "nbformat_minor": 5
}
