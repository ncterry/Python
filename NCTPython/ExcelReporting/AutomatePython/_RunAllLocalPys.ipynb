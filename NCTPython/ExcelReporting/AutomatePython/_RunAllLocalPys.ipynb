{
 "cells": [
  {
   "cell_type": "code",
   "execution_count": null,
   "id": "c4d07ba2-b356-4209-96bd-1492776da2c7",
   "metadata": {},
   "outputs": [],
   "source": [
    "'''\n",
    "We created a notebook\n",
    "We called files (as seen below) from a local directory\n",
    "That worked, but when we moved that calling file, it could not call those same files.\n",
    "The notebook has to be local (as far as we can tell)\n",
    "'''"
   ]
  },
  {
   "cell_type": "code",
   "execution_count": 2,
   "id": "515d463b-6e8e-4cc4-aa6e-ea714a13e03a",
   "metadata": {},
   "outputs": [],
   "source": [
    "%run \"1makePivotTable.py\""
   ]
  },
  {
   "cell_type": "code",
   "execution_count": 3,
   "id": "1acfbef2-ca99-401b-915f-2e8343057f53",
   "metadata": {},
   "outputs": [],
   "source": [
    "%run \"2addCharts.py\""
   ]
  },
  {
   "cell_type": "code",
   "execution_count": 4,
   "id": "6b51d017-56f4-4c5c-8a07-7c7c907503fa",
   "metadata": {},
   "outputs": [],
   "source": [
    "%run \"3applyFormulas.py\""
   ]
  },
  {
   "cell_type": "code",
   "execution_count": 5,
   "id": "774c4bfe-8589-48c6-a9db-395516f83d26",
   "metadata": {},
   "outputs": [],
   "source": [
    "%run \"4formatCells.py\""
   ]
  },
  {
   "cell_type": "code",
   "execution_count": 6,
   "id": "a1770a02-292e-4d1e-a7b0-c3b9cbc83863",
   "metadata": {},
   "outputs": [],
   "source": [
    "%run \"5pivotToReport.py\""
   ]
  },
  {
   "cell_type": "code",
   "execution_count": 7,
   "id": "7897244f-b8b2-4b45-9829-980abf04670f",
   "metadata": {},
   "outputs": [
    {
     "name": "stdin",
     "output_type": "stream",
     "text": [
      "Introduce month:  August\n"
     ]
    }
   ],
   "source": [
    "%run \"6pyToExe.py\""
   ]
  },
  {
   "cell_type": "code",
   "execution_count": null,
   "id": "57606380-8fad-412a-85e3-2b6d587abda1",
   "metadata": {},
   "outputs": [],
   "source": []
  }
 ],
 "metadata": {
  "kernelspec": {
   "display_name": "Python 3 (ipykernel)",
   "language": "python",
   "name": "python3"
  },
  "language_info": {
   "codemirror_mode": {
    "name": "ipython",
    "version": 3
   },
   "file_extension": ".py",
   "mimetype": "text/x-python",
   "name": "python",
   "nbconvert_exporter": "python",
   "pygments_lexer": "ipython3",
   "version": "3.11.1"
  }
 },
 "nbformat": 4,
 "nbformat_minor": 5
}
