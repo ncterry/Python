{
 "cells": [
  {
   "cell_type": "code",
   "execution_count": 1,
   "id": "86205938-01de-43af-9395-6690023b9be6",
   "metadata": {},
   "outputs": [
    {
     "data": {
      "text/plain": [
       "'\\nJust finished with the functions, and section 3 to get an active cell\\nNext is to turn getting a column into a function as opposed to just section 4\\n'"
      ]
     },
     "execution_count": 1,
     "metadata": {},
     "output_type": "execute_result"
    }
   ],
   "source": [
    "'''\n",
    "Just finished with the functions, and section 3 to get an active cell\n",
    "Next is to turn getting a column into a function as opposed to just section 4\n",
    "'''"
   ]
  },
  {
   "cell_type": "code",
   "execution_count": 2,
   "id": "21b8ee0e-29ad-410f-8a3f-0f2d2c014152",
   "metadata": {},
   "outputs": [],
   "source": [
    "import re\n",
    "# Function checks to see if the target user input is a legit cell address\n",
    "# Return True or False\n",
    "def is_valid_excel_cell(c):\n",
    "    m = re.match(\"[A-Z]+\\d+$\",c)\n",
    "    return bool(m)"
   ]
  },
  {
   "cell_type": "code",
   "execution_count": 3,
   "id": "c0d66734-3a68-4e9d-ab6d-dda95ff3d068",
   "metadata": {},
   "outputs": [],
   "source": [
    "def getActiveCell(sheet):\n",
    "    # In choice 3\n",
    "    # Function: User inputs cell number, if the cell is active this returns the cell value\n",
    "    targetcell = input(\"\\nEnter target cell. Example C4 \\nOr enter '0' to stop: \")\n",
    "    targetcell = targetcell.strip() #Remove whitespace from input\n",
    "    targetcell = targetcell.upper() #Take input letters uppercase\n",
    "    #-----------------------------------------------------\n",
    "    # bool to hold if the cell is a valid address\n",
    "    validCell = None\n",
    "    # zero implies user wants to quit\n",
    "    if targetcell == \"0\":\n",
    "        # Return blank. Exit function\n",
    "        return(targetcell, \"0\")\n",
    "    \n",
    "    # User did not choose zero\n",
    "    elif targetcell != \"0\":\n",
    "        # Use function to check if the user input is a legit cell address\n",
    "        validCell = is_valid_excel_cell(targetcell)\n",
    "        print(\"validcell = \", validCell)\n",
    "        # If not a valid cell address, break\n",
    "        if validCell == False:\n",
    "            return(\"0\", \"0\")\n",
    "        \n",
    "    # If the cell addess is valid\n",
    "    if validCell == True:\n",
    "            #-----------------------------------------------------\n",
    "        try: # Try to find the cell the user input\n",
    "            # Since this is a try, if it is not found or active, then it will hop to the except.\n",
    "            value = sheet[targetcell].value\n",
    "            return(targetcell, value)\n",
    "            #-----------------------------------------------------\n",
    "        except: # If the cell is not a real cell\n",
    "            print(\"\\nAttribute error. \\nCell \", targetcell, \" is not valid cell.\")\n",
    "            # Return blank\n",
    "            return(targetcell, \"0\")\n",
    "            #-----------------------------------------------------\n",
    "        else:\n",
    "            print(\"\")\n",
    "            "
   ]
  },
  {
   "cell_type": "code",
   "execution_count": 4,
   "id": "56a6c7b9-e320-406a-9e2a-c8edda8d9040",
   "metadata": {},
   "outputs": [],
   "source": [
    "def menu():\n",
    "    choice = None\n",
    "    # Print the menu for user to select from\n",
    "    # print(\"\\033[1;32m This text is Bright Green  \\n\")\n",
    "    print(\"1) View Filename\")\n",
    "    print(\"2) View Sheetname\")\n",
    "    print(\"3) View Single cell value\")\n",
    "    print(\"4) View All Cells in a Column\")\n",
    "    print(\"0) Quit\")\n",
    "\n",
    "    choice = input(\"Choice:\")\n",
    "    choice = choice.strip()   # Remove any whitespace\n",
    "    \n",
    "    return choice\n"
   ]
  },
  {
   "cell_type": "code",
   "execution_count": null,
   "id": "87c3774a-69b9-4a6c-8add-fa447d984b5a",
   "metadata": {
    "tags": []
   },
   "outputs": [
    {
     "name": "stdout",
     "output_type": "stream",
     "text": [
      "1) View Filename\n",
      "2) View Sheetname\n",
      "3) View Single cell value\n",
      "4) View All Cells in a Column\n",
      "0) Quit\n"
     ]
    },
    {
     "name": "stdin",
     "output_type": "stream",
     "text": [
      "Choice: 3\n",
      "\n",
      "Enter target cell. Example C4 \n",
      "Or enter '0' to stop:  \n"
     ]
    },
    {
     "name": "stdout",
     "output_type": "stream",
     "text": [
      "validcell =  False\n",
      "\n",
      "Cell  0 :  0 \n",
      "\n"
     ]
    }
   ],
   "source": [
    "def excelSheetModule(filename, sheetname):\n",
    "    from openpyxl import load_workbook\n",
    "    import os # To use cls aka clear\n",
    "    from IPython.display import clear_output\n",
    "    workbook = load_workbook(filename)\n",
    "    sheet = workbook[sheetname]\n",
    "    \n",
    "    looping = True\n",
    "    #-------------------while loop start----------------------------------\n",
    "    while looping == True:\n",
    "        \n",
    "        # Call the menu function, to print menu and return choice\n",
    "        choice = menu()\n",
    "        \n",
    "        #===========================================================\n",
    "        \n",
    "        if choice == \"1\":\n",
    "            # Just prints the filename\n",
    "            print(\"\\nFilename: \" + filename + \"\\n\")\n",
    "            input(\"Press Enter to continue...\")\n",
    "            os.system('cls')  # Clearing the Screen. This does not work in Jupyter\n",
    "            clear_output()\n",
    "            #===========================================================\n",
    "            \n",
    "        elif choice == \"2\":\n",
    "            # Prints the filename and the sheetname\n",
    "            print(\"\\nFilename:  \" + filename)\n",
    "            print(\"Sheetname: \" + sheet.title + \"\\n\")\n",
    "            input(\"Press Enter to continue...\")\n",
    "            os.system('cls')  # Clearing the Screen. This does not work in Jupyter\n",
    "            clear_output()\n",
    "            #===========================================================\n",
    "       \n",
    "        elif choice == \"3\":\n",
    "            # Stay in loop until a user breaks. Let them try any cell until they exit\n",
    "            targetcell = None\n",
    "            # zero implies user wants to quit\n",
    "            while targetcell != \"0\":\n",
    "                # Function returns the targetcell address, and the value in that address\n",
    "                targetcell, value = getActiveCell(sheet)\n",
    "                print(\"\\nCell \", targetcell, \": \", value, \"\\n\")\n",
    "                input(\"Press Enter to continue...\")\n",
    "                os.system('cls')  # Clearing the Screen. This does not work in Jupyter\n",
    "                clear_output()\n",
    "            #===========================================================\n",
    "        \n",
    "        elif choice == \"4\":\n",
    "            # Print all cells in a column that have values\n",
    "            # Ex: A-Z but at the moment, if you enter 3 it will print row 3, not a column\n",
    "            propercell = False\n",
    "            targetcell = None\n",
    "            # Stay in loop until a user breaks. Let them try any cell until they exit\n",
    "            while propercell == False and targetcell != \"0\":\n",
    "                ##### Get all cells in column\n",
    "                targetcell = input(\"\\nEnter target column. Example C \\nOr enter '0' to stop: \")\n",
    "                targetcell = targetcell.strip() #Remove whitespace from input\n",
    "                targetcell = targetcell.lower() #Take input letters lowercase\n",
    "                #--------\n",
    "                column = sheet[targetcell]\n",
    "                # Scroll through every cell in column\n",
    "                for cell in column:\n",
    "                    # If the cell is not empty, then print the actual value in the cell.\n",
    "                    if cell.value != \"\":\n",
    "                        print(cell.value)\n",
    "                        #-----\n",
    "                input(\"Press Enter to continue...\")\n",
    "                os.system('cls')  # Clearing the Screen. This does not work in Jupyter\n",
    "                clear_output()\n",
    "            #===========================================================\n",
    "        elif choice == \"0\":\n",
    "            # If user inputs 0, this will quit out of the menu loop\n",
    "            looping = False\n",
    "            break\n",
    "        else:\n",
    "            print(\"-------------------\")\n",
    "        #===========================================================\n",
    "            \n",
    "    #----End while looping == True\n",
    "\n",
    "# Call the excel menu function, with the target file, and the target sheet in that file\n",
    "excelSheetModule(\"supermarket_sales.xlsx\", \"Sheet1\")"
   ]
  },
  {
   "cell_type": "code",
   "execution_count": null,
   "id": "08803cd1-b85b-4a10-a73f-92c315820f98",
   "metadata": {},
   "outputs": [],
   "source": []
  }
 ],
 "metadata": {
  "kernelspec": {
   "display_name": "Python 3 (ipykernel)",
   "language": "python",
   "name": "python3"
  },
  "language_info": {
   "codemirror_mode": {
    "name": "ipython",
    "version": 3
   },
   "file_extension": ".py",
   "mimetype": "text/x-python",
   "name": "python",
   "nbconvert_exporter": "python",
   "pygments_lexer": "ipython3",
   "version": "3.11.1"
  }
 },
 "nbformat": 4,
 "nbformat_minor": 5
}
