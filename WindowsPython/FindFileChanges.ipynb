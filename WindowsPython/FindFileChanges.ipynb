{
 "cells": [
  {
   "cell_type": "code",
   "execution_count": 6,
   "id": "fc24ff95-2564-4c89-b951-7ca19432ef8f",
   "metadata": {},
   "outputs": [],
   "source": [
    "'''\n",
    "Here's a Python function that checks if files in a specified \n",
    "directory were recently added or changed within a given \n",
    "time period (in minutes). The function uses the os and \n",
    "datetime modules, which are part of the Python standard library.\n",
    "\n",
    "This function only shows the file, and when changed. Nothing else\n",
    "'''\n",
    "'''\n",
    "#*********************************************************************\n",
    "# Example usage\n",
    "#**************\n",
    "directory_to_check = \"C:\\\\Users\\\\nchar\\\\Documents\\\\Github\\\\python\\\\WindowsPython\"\n",
    "time_period_in_minutes = 10\n",
    "#**************************\n",
    "changes = check_recent_changes(directory_to_check, time_period_in_minutes)\n",
    "if changes:\n",
    "    print(f\"Files changed in the last {time_period_in_minutes} minutes:\")\n",
    "    for file, mtime in changes:\n",
    "        print(f\"{file} - Modified at: {mtime}\")\n",
    "else:\n",
    "    print(f\"No changes in the last {time_period_in_minutes} minutes.\")\n",
    "'''\n",
    "#*********************************************************************\n",
    "'''\n",
    "Results:\n",
    "Files changed in the last 10 minutes:\n",
    "deletemed.txt - Modified at: 2023-04-29 19:41:04.783700\n",
    "FindSystemChanges.ipynb - Modified at: 2023-04-29 19:50:50.877963\n",
    "Untitled.ipynb - Modified at: 2023-04-29 19:50:59.122139\n",
    "FindSystemChanges-checkpoint.ipynb - Modified at: 2023-04-29 19:46:50.261679\n",
    "Untitled-checkpoint.ipynb - Modified at: 2023-04-29 19:50:59.122139\n",
    "'''\n",
    "#*********************************************************************\n",
    "import os\n",
    "import datetime\n",
    "\n",
    "def check_recent_changes(directory, minutes):\n",
    "    recent_changes = []  # List to store the file paths and modification times of recently changed files\n",
    "    threshold = datetime.datetime.now() - datetime.timedelta(minutes=minutes)  # Calculate the time threshold for recent changes\n",
    "\n",
    "    # Iterate through the directory and its subdirectories\n",
    "    for root, dirs, files in os.walk(directory):\n",
    "        # Iterate through the files in the current directory\n",
    "        for file in files:\n",
    "            file_path = os.path.join(root, file)  # Create the file path by joining the root directory and file name\n",
    "            file_mtime = datetime.datetime.fromtimestamp(os.path.getmtime(file_path))  # Get the file's modification time\n",
    "\n",
    "            # Check if the file's modification time is later than the threshold\n",
    "            if file_mtime > threshold:\n",
    "                # Add the file path and modification time to the recent_changes list\n",
    "                recent_changes.append((file, file_mtime))\n",
    "\n",
    "    # Return the list of recently changed files with their modification times\n",
    "    return recent_changes\n"
   ]
  },
  {
   "cell_type": "code",
   "execution_count": 7,
   "id": "67edc4db-0710-46d4-9797-8c24698851cc",
   "metadata": {},
   "outputs": [
    {
     "name": "stdout",
     "output_type": "stream",
     "text": [
      "Files changed in the last 10 minutes:\n",
      "FindFileChangesAdvanced.ipynb - Modified at: 2023-04-29 20:25:30.852602\n",
      "Untitled.ipynb - Modified at: 2023-04-29 20:26:44.981048\n",
      "FindFileChangesAdvanced-checkpoint.ipynb - Modified at: 2023-04-29 20:25:30.852602\n"
     ]
    }
   ],
   "source": [
    "# Example usage\n",
    "directory_to_check = \"C:\\\\Users\\\\nchar\\\\Documents\\\\Github\\\\python\\\\WindowsPython\" # Set the directory to check for recent changes\n",
    "time_period_in_minutes = 10  # Set the time period in minutes\n",
    "\n",
    "# Call the check_recent_changes function to get the recently changed files\n",
    "changes = check_recent_changes(directory_to_check, time_period_in_minutes)\n",
    "\n",
    "# Check if there are any recent changes\n",
    "if changes:\n",
    "    print(f\"Files changed in the last {time_period_in_minutes} minutes:\")\n",
    "    # Iterate through the recent changes and print the file paths and modification times\n",
    "    for file, mtime in changes:\n",
    "        print(f\"{file} - Modified at: {mtime}\")\n",
    "else:\n",
    "    print(f\"No changes in the last {time_period_in_minutes} minutes.\")"
   ]
  },
  {
   "cell_type": "code",
   "execution_count": null,
   "id": "ee0884f2-8758-4f56-bdbe-747e5aadb099",
   "metadata": {},
   "outputs": [],
   "source": []
  }
 ],
 "metadata": {
  "kernelspec": {
   "display_name": "Python 3 (ipykernel)",
   "language": "python",
   "name": "python3"
  },
  "language_info": {
   "codemirror_mode": {
    "name": "ipython",
    "version": 3
   },
   "file_extension": ".py",
   "mimetype": "text/x-python",
   "name": "python",
   "nbconvert_exporter": "python",
   "pygments_lexer": "ipython3",
   "version": "3.11.1"
  }
 },
 "nbformat": 4,
 "nbformat_minor": 5
}
