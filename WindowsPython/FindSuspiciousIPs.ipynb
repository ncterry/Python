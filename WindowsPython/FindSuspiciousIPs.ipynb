{
 "cells": [
  {
   "cell_type": "code",
   "execution_count": 12,
   "id": "c3e4b12e-6e31-4691-a333-9426144ef0eb",
   "metadata": {},
   "outputs": [],
   "source": [
    "'''\n",
    "Analyzing network connections for suspicious activity:\n",
    "\n",
    "Using the psutil library, you can check for suspicious network\n",
    "connections by analyzing the remote IP addresses, ports, or process IDs \n",
    "associated with the connections.\n",
    "#--------------------------------------------\n",
    "#EXAMPLE\n",
    "> suspicious_remote_ips = ['44.239.106.64']\n",
    "> findSuspiciousIPs(suspicious_remote_ips)\n",
    ">>>Suspicious connection found: 44.239.106.64 (PID: 0)\n",
    "'''\n",
    "#--------------------------------------------\n",
    "import psutil\n",
    "\n",
    "def findSuspiciousIPs(suspicious_remote_ips):\n",
    "\n",
    "    #suspicious_remote_ips = ['1.1.1.1', '2.2.2.2']  # Replace with known suspicious IP addresses\n",
    "\n",
    "    for connection in psutil.net_connections():\n",
    "        if connection.raddr:\n",
    "            remote_ip = connection.raddr[0]\n",
    "            #print(remote_ip)\n",
    "            if remote_ip in suspicious_remote_ips:\n",
    "                print(f\"Suspicious connection found: {remote_ip} (PID: {connection.pid})\")\n",
    "#--------------------------------------------\n",
    "#--------------------------------------------\n",
    "#--------------------------------------------"
   ]
  },
  {
   "cell_type": "code",
   "execution_count": 13,
   "id": "662d0ea2-d54a-4910-bb65-3775f78fb23a",
   "metadata": {},
   "outputs": [
    {
     "name": "stdout",
     "output_type": "stream",
     "text": [
      "Suspicious connection found: 44.239.106.64 (PID: 0)\n"
     ]
    }
   ],
   "source": [
    "#suspicious_remote_ips = ['1.1.1.1', '2.2.2.2']  # Replace with known suspicious IP addresses\n",
    "suspicious_remote_ips = ['44.239.106.64']  # Replace with known suspicious IP addresses\n",
    "\n",
    "findSuspiciousIPs(suspicious_remote_ips)\n",
    "#EXAMPLE\n",
    "#Suspicious connection found: 44.239.106.64 (PID: 0)"
   ]
  },
  {
   "cell_type": "code",
   "execution_count": null,
   "id": "89c0460c-0e3a-4568-acae-ca22fc15f7b2",
   "metadata": {},
   "outputs": [],
   "source": []
  },
  {
   "cell_type": "code",
   "execution_count": null,
   "id": "93c09ca5-9552-4deb-9d9b-4a634a60333a",
   "metadata": {},
   "outputs": [],
   "source": []
  }
 ],
 "metadata": {
  "kernelspec": {
   "display_name": "Python 3 (ipykernel)",
   "language": "python",
   "name": "python3"
  },
  "language_info": {
   "codemirror_mode": {
    "name": "ipython",
    "version": 3
   },
   "file_extension": ".py",
   "mimetype": "text/x-python",
   "name": "python",
   "nbconvert_exporter": "python",
   "pygments_lexer": "ipython3",
   "version": "3.11.1"
  }
 },
 "nbformat": 4,
 "nbformat_minor": 5
}
