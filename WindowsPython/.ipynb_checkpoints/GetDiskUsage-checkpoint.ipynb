{
 "cells": [
  {
   "cell_type": "code",
   "execution_count": null,
   "id": "78c64157-3704-4943-9b9d-d1c9e13c5b49",
   "metadata": {},
   "outputs": [],
   "source": []
  },
  {
   "cell_type": "code",
   "execution_count": 1,
   "id": "40ee93d0-fcd7-490c-b4ac-98d9ae23b1a3",
   "metadata": {},
   "outputs": [],
   "source": [
    "'''\n",
    "Disk usage: \n",
    "You can use the shutil module from the Python standard library to monitor disk usage.\n",
    "Example:\n",
    "    Total space: 457 GB\n",
    "    Used space: 310 GB\n",
    "    Free space: 147 GB\n",
    "'''\n",
    "#-------------------------------------------------\n",
    "import shutil\n",
    "#Example\n",
    "#total, used, free = diskUsage()\n",
    "#print(f\"Total space: {total // (2**30)} GB\")\n",
    "#print(f\"Used space: {used // (2**30)} GB\")\n",
    "#print(f\"Free space: {free // (2**30)} GB\")\n",
    "def diskUsage():\n",
    "    total, used, free = shutil.disk_usage(\"C:\\\\\")\n",
    "    return total, used, free\n",
    "'''\n",
    "total, used, free = diskUsage()\n",
    "print(f\"Total space: {total // (2**30)} GB\")\n",
    "print(f\"Used space: {used // (2**30)} GB\")\n",
    "print(f\"Free space: {free // (2**30)} GB\")\n",
    "'''\n",
    "#-------------------------------------------------"
   ]
  },
  {
   "cell_type": "code",
   "execution_count": 2,
   "id": "d53244dd-a226-4a45-919c-6275baeb8d58",
   "metadata": {},
   "outputs": [
    {
     "name": "stdout",
     "output_type": "stream",
     "text": [
      "Total space: 457 GB\n",
      "Used space: 310 GB\n",
      "Free space: 147 GB\n"
     ]
    }
   ],
   "source": [
    "total, used, free = diskUsage()\n",
    "print(f\"Total space: {total // (2**30)} GB\")\n",
    "print(f\"Used space: {used // (2**30)} GB\")\n",
    "print(f\"Free space: {free // (2**30)} GB\")"
   ]
  },
  {
   "cell_type": "code",
   "execution_count": null,
   "id": "2028be9e-b8cd-418f-9445-fce64e4176a3",
   "metadata": {},
   "outputs": [],
   "source": []
  }
 ],
 "metadata": {
  "kernelspec": {
   "display_name": "Python 3 (ipykernel)",
   "language": "python",
   "name": "python3"
  },
  "language_info": {
   "codemirror_mode": {
    "name": "ipython",
    "version": 3
   },
   "file_extension": ".py",
   "mimetype": "text/x-python",
   "name": "python",
   "nbconvert_exporter": "python",
   "pygments_lexer": "ipython3",
   "version": "3.11.1"
  }
 },
 "nbformat": 4,
 "nbformat_minor": 5
}
