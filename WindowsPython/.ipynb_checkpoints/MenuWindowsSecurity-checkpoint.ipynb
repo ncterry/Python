{
 "cells": [
  {
   "cell_type": "code",
   "execution_count": null,
   "id": "6b3688a6-eb97-4940-98db-58a3cb829582",
   "metadata": {
    "tags": []
   },
   "outputs": [
    {
     "name": "stdout",
     "output_type": "stream",
     "text": [
      "|-----------------------------|\n",
      "|-----Windows Python Menu-----|\n",
      "|-----------------------------|\n",
      "1. Check CPU Temperature\n",
      "2. Check Disk Usage\n",
      "q. Quit\n"
     ]
    },
    {
     "name": "stdin",
     "output_type": "stream",
     "text": [
      "Please enter your choice or 'q' to quit:  1\n"
     ]
    },
    {
     "name": "stdout",
     "output_type": "stream",
     "text": [
      "********************************************\n",
      "\n",
      "\u001b[31m1. Check CPU Temperature\u001b[0m\n",
      "tempC =  27.850000000000023\n",
      "tempF =  82.13000000000005\n",
      "********************************************\n",
      "Press Enter to continue\n"
     ]
    },
    {
     "name": "stdin",
     "output_type": "stream",
     "text": [
      " \n"
     ]
    },
    {
     "name": "stdout",
     "output_type": "stream",
     "text": [
      "Invalid choice, please try again.\n",
      "|-----------------------------|\n",
      "|-----Windows Python Menu-----|\n",
      "|-----------------------------|\n",
      "1. Check CPU Temperature\n",
      "2. Check Disk Usage\n",
      "q. Quit\n"
     ]
    },
    {
     "name": "stdin",
     "output_type": "stream",
     "text": [
      "Please enter your choice or 'q' to quit:  2\n"
     ]
    },
    {
     "name": "stdout",
     "output_type": "stream",
     "text": [
      "********************************************\n",
      "\n",
      "\u001b[31m2. Check Disk Usage\u001b[0m\n",
      "Total space: 457 GB\n",
      "Used space: 312 GB\n",
      "Free space: 144 GB\n",
      "********************************************\n",
      "Press Enter to continue\n"
     ]
    }
   ],
   "source": [
    "## Import the required libraries\n",
    "import os\n",
    "import subprocess\n",
    "import sys\n",
    "from importlib import reload\n",
    "#********************************************\n",
    "#********************************************\n",
    "#********************************************\n",
    "# Define text colors\n",
    "# Define ANSI escape codes for text colors\n",
    "RESET = \"\\033[0m\"\n",
    "RED = \"\\033[31m\"\n",
    "GREEN = \"\\033[32m\"\n",
    "YELLOW = \"\\033[33m\"\n",
    "BLUE = \"\\033[34m\"\n",
    "# Print text in different colors\n",
    "#print(f\"{RED}This text is red{RESET}\")\n",
    "\n",
    "# Execute the function\n",
    "#********************************************\n",
    "#********************************************\n",
    "#********************************************\n",
    "# Define a function to print the menu options\n",
    "def print_menu():\n",
    "    print(\"|-----------------------------|\")\n",
    "    print(\"|-----Windows Python Menu-----|\")\n",
    "    print(\"|-----------------------------|\")\n",
    "    print(\"1. Check CPU Temperature\")\n",
    "    print(\"2. Check Disk Usage\")\n",
    "\n",
    "    print(\"q. Quit\")\n",
    "#********************************************\n",
    "#********************************************\n",
    "#********************************************\n",
    "# Define the main function\n",
    "def main():\n",
    "    # Run the menu in a loop until the user decides to quit\n",
    "    while True:\n",
    "        # Display the menu options\n",
    "        print_menu()\n",
    "        #********************************************\n",
    "        # Get the user's choice as input\n",
    "        user_input = input(\"Please enter your choice or 'q' to quit: \")\n",
    "        print(\"********************************************\\n\" )\n",
    "        #********************************************\n",
    "        # If the user chooses option 1, run the CPU temperature script\n",
    "        if user_input == '1':\n",
    "            run_cpu_temperature_script()\n",
    "        #********************************************\n",
    "        if user_input == '2':\n",
    "            run_disk_usage_script()\n",
    "        #********************************************\n",
    "        # If the user enters 'q', exit the loop and end the script\n",
    "        elif user_input.lower() == 'q':\n",
    "            print(\"Goodbye!\")\n",
    "            break\n",
    "        # If the user enters an invalid choice, display an error message\n",
    "        else:\n",
    "            print(\"Invalid choice, please try again.\")\n",
    "    \n",
    "#********************************************\n",
    "#********************************************\n",
    "#********************************************\n",
    "def testFunctionPath(script_path):\n",
    "    if not os.path.exists(script_path):\n",
    "        print(f\"The script '{script_path}' does not exist. Please make sure the file is in the same directory as this script.\")\n",
    "        return\n",
    "    #********************************************\n",
    "    # Try to execute the script using the subprocess module\n",
    "    try:\n",
    "        subprocess.run([\"python\", script_path], check=True)\n",
    "    # Catch any errors that occur during script execution and display an error message\n",
    "    except subprocess.CalledProcessError as e:\n",
    "        print(f\"Error executing '{script_path}': {e}\")\n",
    "#********************************************\n",
    "#********************************************\n",
    "#********************************************\n",
    "# Define a function to run the CPU temperature script\n",
    "def run_cpu_temperature_script():\n",
    "    print(f\"{RED}1. Check CPU Temperature{RESET}\")\n",
    "    from GetCPUTemperature import cpuTemp\n",
    "    # Set the path of the script to be executed\n",
    "    # The script has a function. State where the script is at to import the function\n",
    "    script_path = \"GetCPUTemperature.py\"\n",
    "    tempC, tempF = cpuTemp()\n",
    "    #--------------------------------------\n",
    "    print(\"tempC = \", tempC)\n",
    "    print(\"tempF = \", tempF)\n",
    "    #--------------------------------------\n",
    "    # Check if the script exists in the specified path\n",
    "    testFunctionPath(script_path)\n",
    "    print(\"********************************************\\nPress Enter to continue\")\n",
    "    input()\n",
    "#********************************************\n",
    "#********************************************\n",
    "#********************************************\n",
    "def run_disk_usage_script():\n",
    "    print(f\"{RED}2. Check Disk Usage{RESET}\")\n",
    "    # Set the path of the script to be executed\n",
    "    # The script has a function. State where the script is at to import the function\n",
    "    from GetDiskUsage import diskUsage\n",
    "    script_path = \"GetDiskUsage.py\"\n",
    "    total, used, free = diskUsage()\n",
    "    #--------------------------------------\n",
    "    print(f\"Total space: {total // (2**30)} GB\")\n",
    "    print(f\"Used space: {used // (2**30)} GB\")\n",
    "    print(f\"Free space: {free // (2**30)} GB\")\n",
    "    #--------------------------------------\n",
    "    # Check if the script exists in the specified path\n",
    "    testFunctionPath(script_path)\n",
    "    print(\"********************************************\\nPress Enter to continue\")\n",
    "    input()\n",
    "#********************************************\n",
    "#********************************************\n",
    "#********************************************\n",
    "# If the script is being run directly (not imported as a module), call the main function\n",
    "if __name__ == \"__main__\":\n",
    "    main()\n",
    "#********************************************\n",
    "#********************************************\n",
    "#********************************************\n"
   ]
  },
  {
   "cell_type": "code",
   "execution_count": null,
   "id": "56a955f6-ae5b-41ff-9f38-d54a79e07f0a",
   "metadata": {},
   "outputs": [],
   "source": []
  },
  {
   "cell_type": "code",
   "execution_count": null,
   "id": "97c73203-7131-4ef7-b417-67216ad888f5",
   "metadata": {},
   "outputs": [],
   "source": []
  },
  {
   "cell_type": "code",
   "execution_count": null,
   "id": "cb3cc51d-e542-4f6d-b08f-21a89838fb60",
   "metadata": {},
   "outputs": [],
   "source": []
  }
 ],
 "metadata": {
  "kernelspec": {
   "display_name": "Python 3 (ipykernel)",
   "language": "python",
   "name": "python3"
  },
  "language_info": {
   "codemirror_mode": {
    "name": "ipython",
    "version": 3
   },
   "file_extension": ".py",
   "mimetype": "text/x-python",
   "name": "python",
   "nbconvert_exporter": "python",
   "pygments_lexer": "ipython3",
   "version": "3.11.1"
  }
 },
 "nbformat": 4,
 "nbformat_minor": 5
}
