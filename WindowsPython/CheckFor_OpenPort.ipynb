{
 "cells": [
  {
   "cell_type": "code",
   "execution_count": 1,
   "id": "d3dcf964-42db-434b-a420-22c66cb16884",
   "metadata": {},
   "outputs": [],
   "source": [
    "import socket\n",
    "'''\n",
    "Python script that checks if a given port is currently open on your local machine.\n",
    "'''\n",
    "def check_for_open_port(port):\n",
    "    with socket.socket(socket.AF_INET, socket.SOCK_STREAM) as s:\n",
    "        try:\n",
    "            s.bind(('localhost', port))\n",
    "            return f\"Port {port} is available.\"\n",
    "        except socket.error:\n",
    "            return f\"Port {port} is in use.\""
   ]
  },
  {
   "cell_type": "code",
   "execution_count": 3,
   "id": "088676b0-f088-4108-a2d3-1fd4e04d2615",
   "metadata": {},
   "outputs": [
    {
     "name": "stdout",
     "output_type": "stream",
     "text": [
      "Port 23000 is available.\n"
     ]
    }
   ],
   "source": [
    "port = 23000\n",
    "print(check_for_open_port(port))"
   ]
  },
  {
   "cell_type": "code",
   "execution_count": null,
   "id": "d9c44dfc-50f0-4dcf-b04d-f9c1f26f1fc4",
   "metadata": {},
   "outputs": [],
   "source": []
  }
 ],
 "metadata": {
  "kernelspec": {
   "display_name": "Python 3 (ipykernel)",
   "language": "python",
   "name": "python3"
  },
  "language_info": {
   "codemirror_mode": {
    "name": "ipython",
    "version": 3
   },
   "file_extension": ".py",
   "mimetype": "text/x-python",
   "name": "python",
   "nbconvert_exporter": "python",
   "pygments_lexer": "ipython3",
   "version": "3.11.1"
  }
 },
 "nbformat": 4,
 "nbformat_minor": 5
}
