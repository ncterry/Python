{
 "cells": [
  {
   "cell_type": "code",
   "execution_count": 1,
   "id": "cc6a73f7-03af-4fc9-b8c9-1f0a667b6f42",
   "metadata": {},
   "outputs": [],
   "source": [
    "import subprocess\n",
    "import re\n",
    "'''\n",
    "This script will display if the specified port is being used, \n",
    "along with the associated information (protocol, local address, \n",
    "foreign address, and PID). Keep in mind that this script only \n",
    "checks the current status of the port and does not provide historical \n",
    "information or assess security.\n",
    "Examples:\n",
    "----------------------\n",
    "Port 443 is in use:\n",
    "  TCP    10.0.0.200:51399       20.10.31.115:443       ESTABLISHED     22980\n",
    "----------------------\n",
    "Port 5900 is not in use.\n",
    "'''\n",
    "def check_port_usage(port):\n",
    "    # Run netstat command and get output\n",
    "    cmd = 'netstat -ano'\n",
    "    output = subprocess.check_output(cmd, shell=True, text=True)\n",
    "\n",
    "    # Check if port is being used\n",
    "    port_pattern = re.compile(f':{port} ')\n",
    "    for line in output.splitlines():\n",
    "        if port_pattern.search(line):\n",
    "            print(f\"Port {port} is in use:\")\n",
    "            print(line)\n",
    "            break\n",
    "    else:\n",
    "        print(f\"Port {port} is not in use.\")\n",
    "\n"
   ]
  },
  {
   "cell_type": "code",
   "execution_count": 4,
   "id": "31d9a9f7-48f9-4f0c-80f8-9fbb1d50329c",
   "metadata": {},
   "outputs": [
    {
     "name": "stdout",
     "output_type": "stream",
     "text": [
      "Port 5900 is not in use.\n"
     ]
    }
   ],
   "source": [
    "port = 5900\n",
    "#port = 443\n",
    "check_port_usage(port)"
   ]
  },
  {
   "cell_type": "code",
   "execution_count": null,
   "id": "91689325-64ed-452d-b977-c903ef913d2b",
   "metadata": {},
   "outputs": [],
   "source": []
  }
 ],
 "metadata": {
  "kernelspec": {
   "display_name": "Python 3 (ipykernel)",
   "language": "python",
   "name": "python3"
  },
  "language_info": {
   "codemirror_mode": {
    "name": "ipython",
    "version": 3
   },
   "file_extension": ".py",
   "mimetype": "text/x-python",
   "name": "python",
   "nbconvert_exporter": "python",
   "pygments_lexer": "ipython3",
   "version": "3.11.1"
  }
 },
 "nbformat": 4,
 "nbformat_minor": 5
}
