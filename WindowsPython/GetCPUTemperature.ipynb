{
 "cells": [
  {
   "cell_type": "code",
   "execution_count": 1,
   "id": "7a318a1c-06da-4817-a3c9-b8de8e463db4",
   "metadata": {},
   "outputs": [],
   "source": [
    "'''\n",
    "Monitoring the temperature of CPU and other hardware sensors: \n",
    "You can use the py3nvml library to access NVIDIA GPU information (if available) \n",
    "or the wmi library for general hardware information. To install these libraries, \n",
    "run pip install py3nvml wmi in your terminal or command prompt.\n",
    "\n",
    "Note: Accessing temperature information might not be supported on all systems. \n",
    "You may need to use third-party tools or libraries that are specific to your hardware.\n",
    "EXAMPLE\n",
    "tempC, tempF = cpuTemperature()\n",
    "print(f\"CPU temperature:\", tempC,  \"°C\")\n",
    "print(f\"CPU temperature:\", tempF,  \"°F\")\n",
    "'''\n",
    "import wmi\n",
    "def cpuTemperature():\n",
    "    w = wmi.WMI(namespace=\"root\\\\wmi\")\n",
    "    temperature_info = w.MSAcpi_ThermalZoneTemperature()[0]\n",
    "    \n",
    "    tempC = (temperature_info.CurrentTemperature / 10 - 273.15)\n",
    "    tempF = (temperature_info.CurrentTemperature / 10 - 273.15) * (9/5) + 32\n",
    "    print(\"xxx\")\n",
    "    return tempC, tempF"
   ]
  },
  {
   "cell_type": "code",
   "execution_count": 2,
   "id": "7b39e829-1aef-43bd-907a-49b7ae2f08d8",
   "metadata": {},
   "outputs": [
    {
     "name": "stdout",
     "output_type": "stream",
     "text": [
      "xxx\n",
      "CPU temperature: 27.850000000000023 °C\n",
      "CPU temperature: 82.13000000000005 °F\n"
     ]
    }
   ],
   "source": [
    "tempC, tempF = cpuTemperature()\n",
    "print(f\"CPU temperature:\", tempC,  \"°C\")\n",
    "print(f\"CPU temperature:\", tempF,  \"°F\")\n"
   ]
  },
  {
   "cell_type": "code",
   "execution_count": null,
   "id": "29c5331c-761d-4f1a-8583-329035c83020",
   "metadata": {},
   "outputs": [],
   "source": []
  }
 ],
 "metadata": {
  "kernelspec": {
   "display_name": "Python 3 (ipykernel)",
   "language": "python",
   "name": "python3"
  },
  "language_info": {
   "codemirror_mode": {
    "name": "ipython",
    "version": 3
   },
   "file_extension": ".py",
   "mimetype": "text/x-python",
   "name": "python",
   "nbconvert_exporter": "python",
   "pygments_lexer": "ipython3",
   "version": "3.11.1"
  }
 },
 "nbformat": 4,
 "nbformat_minor": 5
}
