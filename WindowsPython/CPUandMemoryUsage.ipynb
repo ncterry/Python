{
 "cells": [
  {
   "cell_type": "code",
   "execution_count": null,
   "id": "c1e4a330-c6a8-4e27-a326-e6077d318273",
   "metadata": {},
   "outputs": [],
   "source": [
    "'''\n",
    "CPU and memory usage: You can use the psutil library to monitor CPU and memory usage. \n",
    "To install it, run pip install psutil in your terminal or command prompt.\n",
    "'''"
   ]
  },
  {
   "cell_type": "code",
   "execution_count": 1,
   "id": "11725808-75ff-4c6d-b5d0-efd56bcfbf7b",
   "metadata": {},
   "outputs": [
    {
     "name": "stdout",
     "output_type": "stream",
     "text": [
      "CPU usage: 0.6%\n",
      "Memory usage: 39.5%\n"
     ]
    }
   ],
   "source": [
    "import psutil\n",
    "\n",
    "cpu_percent = psutil.cpu_percent()\n",
    "memory = psutil.virtual_memory()\n",
    "\n",
    "print(f\"CPU usage: {cpu_percent}%\")\n",
    "print(f\"Memory usage: {memory.percent}%\")\n"
   ]
  },
  {
   "cell_type": "code",
   "execution_count": null,
   "id": "cf30f49b-5bcb-4e0c-8e8a-571cf01f7661",
   "metadata": {},
   "outputs": [],
   "source": []
  }
 ],
 "metadata": {
  "kernelspec": {
   "display_name": "Python 3 (ipykernel)",
   "language": "python",
   "name": "python3"
  },
  "language_info": {
   "codemirror_mode": {
    "name": "ipython",
    "version": 3
   },
   "file_extension": ".py",
   "mimetype": "text/x-python",
   "name": "python",
   "nbconvert_exporter": "python",
   "pygments_lexer": "ipython3",
   "version": "3.11.1"
  }
 },
 "nbformat": 4,
 "nbformat_minor": 5
}
