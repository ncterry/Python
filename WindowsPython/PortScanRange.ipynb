{
 "cells": [
  {
   "cell_type": "code",
   "execution_count": null,
   "id": "ef9edfb4-99e2-4bfe-8233-8bd755875de1",
   "metadata": {},
   "outputs": [],
   "source": []
  },
  {
   "cell_type": "code",
   "execution_count": 1,
   "id": "6a863ebd-6ce9-4f73-a4ee-8cbcaa52663f",
   "metadata": {},
   "outputs": [
    {
     "data": {
      "text/plain": [
       "'\\n***ERROR EXAMPLE WITH A PORT SCAN***\\nThe error message \"Error at port 137: [WinError 10013] An attempt was made to access a \\nsocket in a way forbidden by its access permissions\" indicates that the program is \\nattempting to access a port or create a connection, but the operating system is denying \\nit due to insufficient permissions or security restrictions.\\n\\nThis error can occur when:\\n\\n    The program is not running with administrator privileges: Certain ports, especially \\n    lower-numbered ports (below 1024), are reserved for privileged services and require \\n    administrative access to bind or create connections.\\n\\n    Another application is already using the port: If another program is already using the \\n    port, the system will not allow a new connection on the same port. Port 137, in particular, \\n    is commonly used by the NetBIOS Name Service.\\n\\n    Firewall or antivirus restrictions: Firewalls or antivirus programs may block access to \\n    certain ports or connections as a security measure.\\n\\nTo resolve this issue, you can:\\n\\n    Run the program with administrative privileges: Right-click on the executable or script \\n    file and select \"Run as administrator.\" This will give the program permission to access \\n    privileged ports.\\n\\n    Close any applications that may be using the port in question: Use the \"Task Manager\" or \\n    \"Resource Monitor\" to identify and close applications that may be using the port.\\n\\n    Adjust your firewall or antivirus settings: Check your firewall or antivirus settings and \\n    ensure that they are not blocking access to the port or connection you are trying to establish.\\n\\nAlways make sure to follow the appropriate security practices and only make changes to your \\nsystem if you are sure of the consequences.\\n'"
      ]
     },
     "execution_count": 1,
     "metadata": {},
     "output_type": "execute_result"
    }
   ],
   "source": [
    "'''\n",
    "***ERROR EXAMPLE WITH A PORT SCAN***\n",
    "The error message \"Error at port 137: [WinError 10013] An attempt was made to access a \n",
    "socket in a way forbidden by its access permissions\" indicates that the program is \n",
    "attempting to access a port or create a connection, but the operating system is denying \n",
    "it due to insufficient permissions or security restrictions.\n",
    "\n",
    "This error can occur when:\n",
    "\n",
    "    The program is not running with administrator privileges: Certain ports, especially \n",
    "    lower-numbered ports (below 1024), are reserved for privileged services and require \n",
    "    administrative access to bind or create connections.\n",
    "\n",
    "    Another application is already using the port: If another program is already using the \n",
    "    port, the system will not allow a new connection on the same port. Port 137, in particular, \n",
    "    is commonly used by the NetBIOS Name Service.\n",
    "\n",
    "    Firewall or antivirus restrictions: Firewalls or antivirus programs may block access to \n",
    "    certain ports or connections as a security measure.\n",
    "\n",
    "To resolve this issue, you can:\n",
    "\n",
    "    Run the program with administrative privileges: Right-click on the executable or script \n",
    "    file and select \"Run as administrator.\" This will give the program permission to access \n",
    "    privileged ports.\n",
    "\n",
    "    Close any applications that may be using the port in question: Use the \"Task Manager\" or \n",
    "    \"Resource Monitor\" to identify and close applications that may be using the port.\n",
    "\n",
    "    Adjust your firewall or antivirus settings: Check your firewall or antivirus settings and \n",
    "    ensure that they are not blocking access to the port or connection you are trying to establish.\n",
    "\n",
    "Always make sure to follow the appropriate security practices and only make changes to your \n",
    "system if you are sure of the consequences.\n",
    "'''"
   ]
  },
  {
   "cell_type": "code",
   "execution_count": 2,
   "id": "b00a332c-a303-4a8d-a1b9-85d9cb038455",
   "metadata": {},
   "outputs": [
    {
     "data": {
      "text/plain": [
       "'\\n# Example scan (1-200) on a basic Windows desktop \\nPort 1 is closed\\nPort 2 is closed\\nPort 3 is closed\\nPort 4 is closed\\nPort 5 is closed\\nPort 6 is closed\\nPort 7 is closed\\nPort 8 is closed\\nPort 9 is closed\\nPort 10 is closed\\nPort 11 is closed\\nPort 12 is closed\\nPort 13 is closed\\nPort 14 is closed\\nPort 15 is closed\\nPort 16 is closed\\nPort 17 is closed\\nPort 18 is closed\\nPort 19 is closed\\nPort 20 is closed\\nPort 21 is closed\\nPort 22 is closed\\nPort 23 is closed\\nPort 24 is closed\\nPort 25 is closed\\nPort 26 is closed\\nPort 27 is closed\\nPort 28 is closed\\nPort 29 is closed\\nPort 30 is closed\\nPort 31 is closed\\nPort 32 is closed\\nPort 33 is closed\\nPort 34 is closed\\nPort 35 is closed\\nPort 36 is closed\\nPort 37 is closed\\nPort 38 is closed\\nPort 39 is closed\\nPort 40 is closed\\nPort 41 is closed\\nPort 42 is closed\\nPort 43 is closed\\nPort 44 is closed\\nPort 45 is closed\\nPort 46 is closed\\nPort 47 is closed\\nPort 48 is closed\\nPort 49 is closed\\nPort 50 is closed\\nPort 51 is closed\\nPort 52 is closed\\nPort 53 is closed\\nPort 54 is closed\\nPort 55 is closed\\nPort 56 is closed\\nPort 57 is closed\\nPort 58 is closed\\nPort 59 is closed\\nPort 60 is closed\\nPort 61 is closed\\nPort 62 is closed\\nPort 63 is closed\\nPort 64 is closed\\nPort 65 is closed\\nPort 66 is closed\\nPort 67 is closed\\nPort 68 is closed\\nPort 69 is closed\\nPort 70 is closed\\nPort 71 is closed\\nPort 72 is closed\\nPort 73 is closed\\nPort 74 is closed\\nPort 75 is closed\\nPort 76 is closed\\nPort 77 is closed\\nPort 78 is closed\\nPort 79 is closed\\nPort 80 is closed\\nPort 81 is closed\\nPort 82 is closed\\nPort 83 is closed\\nPort 84 is closed\\nPort 85 is closed\\nPort 86 is closed\\nPort 87 is closed\\nPort 88 is closed\\nPort 89 is closed\\nPort 90 is closed\\nPort 91 is closed\\nPort 92 is closed\\nPort 93 is closed\\nPort 94 is closed\\nPort 95 is closed\\nPort 96 is closed\\nPort 97 is closed\\nPort 98 is closed\\nPort 99 is closed\\nPort 100 is closed\\nPort 101 is closed\\nPort 102 is closed\\nPort 103 is closed\\nPort 104 is closed\\nPort 105 is closed\\nPort 106 is closed\\nPort 107 is closed\\nPort 108 is closed\\nPort 109 is closed\\nPort 110 is closed\\nPort 111 is closed\\nPort 112 is closed\\nPort 113 is closed\\nPort 114 is closed\\nPort 115 is closed\\nPort 116 is closed\\nPort 117 is closed\\nPort 118 is closed\\nPort 119 is closed\\nPort 120 is closed\\nPort 121 is closed\\nPort 122 is closed\\nPort 123 is closed\\nPort 124 is closed\\nPort 125 is closed\\nPort 126 is closed\\nPort 127 is closed\\nPort 128 is closed\\nPort 129 is closed\\nPort 130 is closed\\nPort 131 is closed\\nPort 132 is closed\\nPort 133 is closed\\nPort 134 is closed\\nPort 135 is open\\nPort 136 is closed\\nPort 137 is in use\\nPort 138 is closed\\nPort 139 is open\\nPort 140 is closed\\nPort 141 is closed\\nPort 142 is closed\\nPort 143 is closed\\nPort 144 is closed\\nPort 145 is closed\\nPort 146 is closed\\nPort 147 is closed\\nPort 148 is closed\\nPort 149 is closed\\nPort 150 is closed\\nPort 151 is closed\\nPort 152 is closed\\nPort 153 is closed\\nPort 154 is closed\\nPort 155 is closed\\nPort 156 is closed\\nPort 157 is closed\\nPort 158 is closed\\nPort 159 is closed\\nPort 160 is closed\\nPort 161 is closed\\nPort 162 is closed\\nPort 163 is closed\\nPort 164 is closed\\nPort 165 is closed\\nPort 166 is closed\\nPort 167 is closed\\nPort 168 is closed\\nPort 169 is closed\\nPort 170 is closed\\nPort 171 is closed\\nPort 172 is closed\\nPort 173 is closed\\nPort 174 is closed\\nPort 175 is closed\\nPort 176 is closed\\nPort 177 is closed\\nPort 178 is closed\\nPort 179 is closed\\nPort 180 is closed\\nPort 181 is closed\\nPort 182 is closed\\nPort 183 is closed\\nPort 184 is closed\\nPort 185 is closed\\nPort 186 is closed\\nPort 187 is closed\\nPort 188 is closed\\nPort 189 is closed\\nPort 190 is closed\\nPort 191 is closed\\nPort 192 is closed\\nPort 193 is closed\\nPort 194 is closed\\nPort 195 is closed\\nPort 196 is closed\\nPort 197 is closed\\nPort 198 is closed\\nPort 199 is closed\\n'"
      ]
     },
     "execution_count": 2,
     "metadata": {},
     "output_type": "execute_result"
    }
   ],
   "source": [
    "'''\n",
    "# Example scan (130-150) on a basic Windows desktop \n",
    "Error at port 137: [WinError 10013] An attempt was made to access a socket in a way forbidden by its access permissions\n",
    "Port 130 is closed\n",
    "Port 131 is closed\n",
    "Port 132 is closed\n",
    "Port 133 is closed\n",
    "Port 134 is closed\n",
    "Port 135 is open\n",
    "Port 136 is closed\n",
    "Port 137 is in use\n",
    "Port 138 is closed\n",
    "Port 139 is open\n",
    "Port 140 is closed\n",
    "Port 141 is closed\n",
    "Port 142 is closed\n",
    "Port 143 is closed\n",
    "Port 144 is closed\n",
    "Port 145 is closed\n",
    "Port 146 is closed\n",
    "Port 147 is closed\n",
    "Port 148 is closed\n",
    "Port 149 is closed\n",
    "'''"
   ]
  },
  {
   "cell_type": "code",
   "execution_count": 3,
   "id": "8d98e5b6-81c8-43d2-97c9-4343f25322cd",
   "metadata": {},
   "outputs": [],
   "source": [
    "#----------------------------------------\n",
    "import socket\n",
    "from contextlib import closing\n",
    "# Note this can take a significant amount of time\n",
    "# Time depends on a scanning machines resources\n",
    "# A scan of ports 1-200 through a JupyterLab tool, took 3mim 15sec \n",
    "# Done on a standard desktop machine with 16GB RAM\n",
    "# Other actions using JupyterLab at the same time shut down the port scan.\n",
    "# Be cautious \n",
    "#----------------------------------------\n",
    "# Example\n",
    "#ip = \"10.0.0.200\"  # Replace this with the IP address you want to scan\n",
    "#startPort = 130   # Add 2 numbers, continuous range of ports to scan\n",
    "#endPort = 150\n",
    "#result = scan_ports(ip, startPort, endPort)\n",
    "#----------------------------------------\n",
    "def scan_ports(ip_address, startPort, endPort):\n",
    "    ports_status = []\n",
    "    \n",
    "    for port in range(startPort, endPort):\n",
    "        status = ''\n",
    "        with closing(socket.socket(socket.AF_INET, socket.SOCK_STREAM)) as sock:\n",
    "            sock.settimeout(1)\n",
    "            try:\n",
    "                sock.connect((ip_address, port))\n",
    "                status = 'open'\n",
    "            except socket.timeout:\n",
    "                status = 'closed'\n",
    "            except socket.error as e:\n",
    "                status = 'in use'\n",
    "                print(f\"Error at port {port}: {e}\")\n",
    "            finally:\n",
    "                ports_status.append({\"port\": port, \"status\": status})\n",
    "    return ports_status\n",
    "#----------------------------------------\n",
    "#----------------------------------------\n",
    "#----------------------------------------"
   ]
  },
  {
   "cell_type": "code",
   "execution_count": 5,
   "id": "0242f525-f254-4858-8800-68771c319493",
   "metadata": {},
   "outputs": [
    {
     "name": "stdout",
     "output_type": "stream",
     "text": [
      "Error at port 137: [WinError 10013] An attempt was made to access a socket in a way forbidden by its access permissions\n",
      "Port 130 is closed\n",
      "Port 131 is closed\n",
      "Port 132 is closed\n",
      "Port 133 is closed\n",
      "Port 134 is closed\n",
      "Port 135 is open\n",
      "Port 136 is closed\n",
      "Port 137 is in use\n",
      "Port 138 is closed\n",
      "Port 139 is open\n",
      "Port 140 is closed\n",
      "Port 141 is closed\n",
      "Port 142 is closed\n",
      "Port 143 is closed\n",
      "Port 144 is closed\n",
      "Port 145 is closed\n",
      "Port 146 is closed\n",
      "Port 147 is closed\n",
      "Port 148 is closed\n",
      "Port 149 is closed\n"
     ]
    }
   ],
   "source": [
    "# Example usage:\n",
    "#ip = \"127.0.0.1\"  # Replace this with the IP address you want to scan\n",
    "ip = \"10.0.0.200\"  # Replace this with the IP address you want to scan\n",
    "startPort = 130   # Add 2 numbers, continuous range of ports to scan\n",
    "endPort = 150\n",
    "result = scan_ports(ip, startPort, endPort)\n",
    "\n",
    "for entry in result:\n",
    "    print(f\"Port {entry['port']} is {entry['status']}\")"
   ]
  },
  {
   "cell_type": "code",
   "execution_count": null,
   "id": "dae2e998-1f67-4849-a682-99341dceb9fc",
   "metadata": {},
   "outputs": [],
   "source": []
  }
 ],
 "metadata": {
  "kernelspec": {
   "display_name": "Python 3 (ipykernel)",
   "language": "python",
   "name": "python3"
  },
  "language_info": {
   "codemirror_mode": {
    "name": "ipython",
    "version": 3
   },
   "file_extension": ".py",
   "mimetype": "text/x-python",
   "name": "python",
   "nbconvert_exporter": "python",
   "pygments_lexer": "ipython3",
   "version": "3.11.1"
  }
 },
 "nbformat": 4,
 "nbformat_minor": 5
}
