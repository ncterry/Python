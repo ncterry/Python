{
 "cells": [
  {
   "cell_type": "code",
   "execution_count": 5,
   "id": "05a4648e-797a-484e-af95-2cd78797e99d",
   "metadata": {},
   "outputs": [],
   "source": [
    "'''\n",
    "NOTE There is an issue with this and Jupyter Lab.\n",
    "Message quoted below. I have not been able to fix this in jupyter lab\n",
    "\"\n",
    "IOPub data rate exceeded.\n",
    "The Jupyter server will temporarily stop sending output\n",
    "to the client in order to avoid crashing it.\n",
    "To change this limit, set the config variable\n",
    "`--ServerApp.iopub_data_rate_limit`.\n",
    "\n",
    "Current values:\n",
    "ServerApp.iopub_data_rate_limit=1000000.0 (bytes/sec)\n",
    "ServerApp.rate_limit_window=3.0 (secs)\n",
    "\"\n",
    "\n",
    "Process list and resource usage: \n",
    "You can use the psutil library to get a list of running processes and their resource usage.\n",
    "Example\n",
    "\n",
    "System Idle Process (PID: 0) - CPU: 0.0%, Memory: 2.413556075596438e-05%\n",
    "System (PID: 4) - CPU: 0.0%, Memory: 0.021227225684870673%\n",
    "svchost.exe (PID: 8) - CPU: 0.0%, Memory: 0.0380859148729118%\n",
    " (PID: 172) - CPU: 0.0%, Memory: 0.0003258300702055191%\n",
    "Registry (PID: 220) - CPU: 0.0%, Memory: 0.13466436123790324%\n",
    "smss.exe (PID: 784) - CPU: 0.0%, Memory: 0.002932470631849672%\n",
    "...\n",
    "...\n",
    "...\n",
    "'''\n",
    "import psutil\n",
    "def runningProcesses():\n",
    "    '''\n",
    "print(f\"{\n",
    "process.info['name']} \n",
    "(PID: {process.info['pid']}) - \n",
    "CPU: {process.info['cpu_percent']}%, \n",
    "Memory: {process.info['memory_percent']}%\")\n",
    "    '''\n",
    "    allProcesses = []\n",
    "    oneProcess = []\n",
    "    for process in psutil.process_iter(['pid', 'name', 'cpu_percent', 'memory_percent']):\n",
    "        #print(f\"{process.info['name']} (PID: {process.info['pid']}) - CPU: {process.info['cpu_percent']}%, Memory: {process.info['memory_percent']}%\")\n",
    "\n",
    "        name = (f\"{process.info['name']}\")\n",
    "        pid = (f\"PID: {process.info['pid']}\")\n",
    "        cpu = (f\"CPU: {process.info['cpu_percent']}\")\n",
    "        memory = (f\"Memory: {process.info['memory_percent']}%\")\n",
    "\n",
    "        oneProcess.append(name)\n",
    "        oneProcess.append(pid)\n",
    "        oneProcess.append(cpu)\n",
    "        oneProcess.append(memory)\n",
    "\n",
    "        \n",
    "        allProcesses.append(oneProcess.copy)\n",
    "        oneProcess.clear()\n",
    "        for process in allProcesses:\n",
    "            print(\"------------------\")\n",
    "            print(process)\n",
    "    #return allProcesses"
   ]
  },
  {
   "cell_type": "code",
   "execution_count": 6,
   "id": "8b000110-8f00-42ce-95ea-f86dc0c45f24",
   "metadata": {},
   "outputs": [
    {
     "name": "stderr",
     "output_type": "stream",
     "text": [
      "IOPub data rate exceeded.\n",
      "The Jupyter server will temporarily stop sending output\n",
      "to the client in order to avoid crashing it.\n",
      "To change this limit, set the config variable\n",
      "`--ServerApp.iopub_data_rate_limit`.\n",
      "\n",
      "Current values:\n",
      "ServerApp.iopub_data_rate_limit=1000000.0 (bytes/sec)\n",
      "ServerApp.rate_limit_window=3.0 (secs)\n",
      "\n"
     ]
    }
   ],
   "source": [
    "runningProcesses()\n"
   ]
  },
  {
   "cell_type": "code",
   "execution_count": null,
   "id": "0e67fe1f-d5e2-4380-ab93-619c1b07e3eb",
   "metadata": {},
   "outputs": [],
   "source": []
  }
 ],
 "metadata": {
  "kernelspec": {
   "display_name": "Python 3 (ipykernel)",
   "language": "python",
   "name": "python3"
  },
  "language_info": {
   "codemirror_mode": {
    "name": "ipython",
    "version": 3
   },
   "file_extension": ".py",
   "mimetype": "text/x-python",
   "name": "python",
   "nbconvert_exporter": "python",
   "pygments_lexer": "ipython3",
   "version": "3.11.1"
  }
 },
 "nbformat": 4,
 "nbformat_minor": 5
}
