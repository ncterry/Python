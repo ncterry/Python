{
 "cells": [
  {
   "cell_type": "code",
   "execution_count": 5,
   "id": "f14199cf-a9e7-4e9f-9f62-831becd686a2",
   "metadata": {},
   "outputs": [
    {
     "name": "stdout",
     "output_type": "stream",
     "text": [
      "The file C:\\Users\\nchar\\Documents\\Github\\python\\WindowsPython\\ has been changed in the last 100 minutes.\n",
      "Modified at: 2023-04-29 20:25:30.868279\n",
      "File owner: NCTDell\\nchar\n"
     ]
    }
   ],
   "source": [
    "'''\n",
    "Python's built-in libraries and functions cannot directly retrieve \n",
    "the user who changed a file or the file owner on Windows. However, \n",
    "you can use the pywin32 library to get the file owner information. \n",
    "You'll need to install the library first by running pip install pywin32 \n",
    "in your terminal or command prompt.\n",
    "\n",
    "Here's a Python function that checks if a file in a Windows directory \n",
    "has been changed in the last 10 minutes and displays when it was changed and the file owner:\n",
    "'''\n",
    "import os\n",
    "import datetime\n",
    "import win32security\n",
    "\n",
    "def get_file_owner(file_path):\n",
    "    # Get the security descriptor for the file\n",
    "    sd = win32security.GetFileSecurity(file_path, win32security.OWNER_SECURITY_INFORMATION)\n",
    "\n",
    "    # Get the owner's SID\n",
    "    owner_sid = sd.GetSecurityDescriptorOwner()\n",
    "\n",
    "    # Convert the owner's SID to a human-readable name\n",
    "    name, domain, _ = win32security.LookupAccountSid(None, owner_sid)\n",
    "\n",
    "    return f\"{domain}\\\\{name}\"\n",
    "\n",
    "def check_recent_change(file_path, minutes):\n",
    "    threshold = datetime.datetime.now() - datetime.timedelta(minutes=minutes)\n",
    "    file_mtime = datetime.datetime.fromtimestamp(os.path.getmtime(file_path))\n",
    "\n",
    "    if file_mtime > threshold:\n",
    "        file_owner = get_file_owner(file_path)\n",
    "        return True, file_mtime, file_owner\n",
    "    else:\n",
    "        return False, file_mtime, None\n",
    "\n",
    "# Example usage\n",
    "file_path = \"C:\\\\Users\\\\nchar\\\\Documents\\\\Github\\\\python\\\\WindowsPython\\\\\"\n",
    "time_period_in_minutes = 100\n",
    "\n",
    "changed, mtime, owner = check_recent_change(file_path, time_period_in_minutes)\n",
    "\n",
    "if changed:\n",
    "    print(f\"The file {file_path} has been changed in the last {time_period_in_minutes} minutes.\")\n",
    "    print(f\"Modified at: {mtime}\")\n",
    "    print(f\"File owner: {owner}\")\n",
    "else:\n",
    "    print(f\"The file {file_path} has not been changed in the last {time_period_in_minutes} minutes.\")\n"
   ]
  },
  {
   "cell_type": "code",
   "execution_count": null,
   "id": "9920aac0-9496-4d40-93d2-40ad828609fe",
   "metadata": {},
   "outputs": [],
   "source": []
  },
  {
   "cell_type": "code",
   "execution_count": null,
   "id": "df3ad5a0-7fa0-47fa-8acd-24359cb349d7",
   "metadata": {},
   "outputs": [],
   "source": []
  }
 ],
 "metadata": {
  "kernelspec": {
   "display_name": "Python 3 (ipykernel)",
   "language": "python",
   "name": "python3"
  },
  "language_info": {
   "codemirror_mode": {
    "name": "ipython",
    "version": 3
   },
   "file_extension": ".py",
   "mimetype": "text/x-python",
   "name": "python",
   "nbconvert_exporter": "python",
   "pygments_lexer": "ipython3",
   "version": "3.11.1"
  }
 },
 "nbformat": 4,
 "nbformat_minor": 5
}
