{
 "cells": [
  {
   "cell_type": "code",
   "execution_count": 1,
   "id": "6caf6548-9ff5-4430-9f97-7a3fb37e8f2a",
   "metadata": {},
   "outputs": [],
   "source": [
    "'''\n",
    "Network usage: \n",
    "You can use the psutil library to monitor network usage as well.\n",
    "Example\n",
    "bytesSent, bytesReceived = networkUsage()\n",
    "\n",
    "print(f\"Bytes sent: {bytesSent}\")\n",
    "print(f\"Bytes received: {bytesReceived}\")\n",
    "print(f\"GigaBytes sent: {bytesSent // (2**30)} GB\")\n",
    "print(f\"GigaBytes received: {bytesReceived // (2**30)} GB\")\n",
    "'''\n",
    "import psutil\n",
    "def networkUsage():\n",
    "    net_io = psutil.net_io_counters()\n",
    "    return net_io.bytes_sent, net_io.bytes_recv\n",
    "\n",
    "\n"
   ]
  },
  {
   "cell_type": "code",
   "execution_count": 3,
   "id": "4bba8205-a001-4ab0-a0ab-cbd08fb0b66b",
   "metadata": {},
   "outputs": [
    {
     "name": "stdout",
     "output_type": "stream",
     "text": [
      "Bytes sent: 742781440\n",
      "Bytes received: 3351878544\n",
      "GigaBytes sent: 0 GB\n",
      "GigaBytes received: 3 GB\n"
     ]
    }
   ],
   "source": [
    "bytesSent, bytesReceived = networkUsage()\n",
    "print(f\"Bytes sent: {bytesSent}\")\n",
    "print(f\"Bytes received: {bytesReceived}\")\n",
    "\n",
    "print(f\"GigaBytes sent: {bytesSent // (2**30)} GB\")\n",
    "print(f\"GigaBytes received: {bytesReceived // (2**30)} GB\")"
   ]
  },
  {
   "cell_type": "code",
   "execution_count": null,
   "id": "d10f64cb-ecf5-4138-a34f-e7c980351333",
   "metadata": {},
   "outputs": [],
   "source": []
  }
 ],
 "metadata": {
  "kernelspec": {
   "display_name": "Python 3 (ipykernel)",
   "language": "python",
   "name": "python3"
  },
  "language_info": {
   "codemirror_mode": {
    "name": "ipython",
    "version": 3
   },
   "file_extension": ".py",
   "mimetype": "text/x-python",
   "name": "python",
   "nbconvert_exporter": "python",
   "pygments_lexer": "ipython3",
   "version": "3.11.1"
  }
 },
 "nbformat": 4,
 "nbformat_minor": 5
}
