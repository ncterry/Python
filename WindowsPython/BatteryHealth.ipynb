{
 "cells": [
  {
   "cell_type": "code",
   "execution_count": 3,
   "id": "59e33914-6e96-4862-a81e-f7950f079d56",
   "metadata": {},
   "outputs": [],
   "source": [
    "'''\n",
    "Checking battery health: \n",
    "You can use the psutil library to check the battery status and health.\n",
    "This function will not work if you are not using battery\n",
    "'''\n",
    "import psutil\n",
    "\n",
    "def batteryHealth():\n",
    "    battery = psutil.sensors_battery()\n",
    "    \n",
    "    print(f\"Battery percentage: {battery.percent}%\")\n",
    "    print(f\"Power plugged: {'Yes' if battery.power_plugged else 'No'}\")\n"
   ]
  },
  {
   "cell_type": "code",
   "execution_count": 4,
   "id": "b750aadf-c844-482b-aabc-77e709ab9910",
   "metadata": {},
   "outputs": [
    {
     "ename": "AttributeError",
     "evalue": "'NoneType' object has no attribute 'power_plugged'",
     "output_type": "error",
     "traceback": [
      "\u001b[1;31m---------------------------------------------------------------------------\u001b[0m",
      "\u001b[1;31mAttributeError\u001b[0m                            Traceback (most recent call last)",
      "Cell \u001b[1;32mIn[4], line 1\u001b[0m\n\u001b[1;32m----> 1\u001b[0m \u001b[43mbatteryHealth\u001b[49m\u001b[43m(\u001b[49m\u001b[43m)\u001b[49m\n",
      "Cell \u001b[1;32mIn[3], line 11\u001b[0m, in \u001b[0;36mbatteryHealth\u001b[1;34m()\u001b[0m\n\u001b[0;32m      8\u001b[0m battery \u001b[38;5;241m=\u001b[39m psutil\u001b[38;5;241m.\u001b[39msensors_battery()\n\u001b[0;32m      9\u001b[0m \u001b[38;5;66;03m# battery.percent will not work if you are not using battery\u001b[39;00m\n\u001b[0;32m     10\u001b[0m \u001b[38;5;66;03m#print(f\"Battery percentage: {battery.percent}%\")\u001b[39;00m\n\u001b[1;32m---> 11\u001b[0m \u001b[38;5;28mprint\u001b[39m(\u001b[38;5;124mf\u001b[39m\u001b[38;5;124m\"\u001b[39m\u001b[38;5;124mPower plugged: \u001b[39m\u001b[38;5;132;01m{\u001b[39;00m\u001b[38;5;124m'\u001b[39m\u001b[38;5;124mYes\u001b[39m\u001b[38;5;124m'\u001b[39m\u001b[38;5;250m \u001b[39m\u001b[38;5;28;01mif\u001b[39;00m\u001b[38;5;250m \u001b[39m\u001b[43mbattery\u001b[49m\u001b[38;5;241;43m.\u001b[39;49m\u001b[43mpower_plugged\u001b[49m\u001b[38;5;250m \u001b[39m\u001b[38;5;28;01melse\u001b[39;00m\u001b[38;5;250m \u001b[39m\u001b[38;5;124m'\u001b[39m\u001b[38;5;124mNo\u001b[39m\u001b[38;5;124m'\u001b[39m\u001b[38;5;132;01m}\u001b[39;00m\u001b[38;5;124m\"\u001b[39m)\n",
      "\u001b[1;31mAttributeError\u001b[0m: 'NoneType' object has no attribute 'power_plugged'"
     ]
    }
   ],
   "source": [
    "batteryHealth()"
   ]
  },
  {
   "cell_type": "code",
   "execution_count": null,
   "id": "27173b75-6afd-4b6b-a6a3-43b0db1c403a",
   "metadata": {},
   "outputs": [],
   "source": []
  }
 ],
 "metadata": {
  "kernelspec": {
   "display_name": "Python 3 (ipykernel)",
   "language": "python",
   "name": "python3"
  },
  "language_info": {
   "codemirror_mode": {
    "name": "ipython",
    "version": 3
   },
   "file_extension": ".py",
   "mimetype": "text/x-python",
   "name": "python",
   "nbconvert_exporter": "python",
   "pygments_lexer": "ipython3",
   "version": "3.11.1"
  }
 },
 "nbformat": 4,
 "nbformat_minor": 5
}
